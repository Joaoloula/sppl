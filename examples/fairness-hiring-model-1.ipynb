{
 "cells": [
  {
   "cell_type": "code",
   "execution_count": 1,
   "metadata": {},
   "outputs": [],
   "source": [
    "%load_ext sppl.magics\n",
    "%matplotlib inline\n",
    "import matplotlib.pyplot as plt\n",
    "import numpy as np"
   ]
  },
  {
   "cell_type": "code",
   "execution_count": 2,
   "metadata": {
    "scrolled": false
   },
   "outputs": [],
   "source": [
    "%%sppl model\n",
    "\n",
    "# Prior on ethnicity, experience, and college rank.\n",
    "ethnicity ~= choice({'minority': .15, 'majority': .85})\n",
    "years_experience ~= binom(n=15, p=.5)\n",
    "if (ethnicity == 'minority'):\n",
    "    college_rank ~= dlaplace(loc=25, a=1/5)\n",
    "else:\n",
    "    college_rank ~= dlaplace(loc=20, a=1/5)\n",
    "\n",
    "# Top 50 colleges and at most 20 years of experience.\n",
    "condition((0 <= college_rank) <= 50)\n",
    "condition((0 <= years_experience) <= 20)\n",
    "\n",
    "# Hiring decision.\n",
    "if college_rank <= 5:\n",
    "    hire ~= atomic(loc=1)\n",
    "else:\n",
    "    switch (years_experience) cases (years in range(0, 20)):\n",
    "        if ((years - 5) > college_rank):\n",
    "            hire ~= atomic(loc=1)\n",
    "        else:\n",
    "            hire ~= atomic(loc=0)"
   ]
  },
  {
   "cell_type": "code",
   "execution_count": 3,
   "metadata": {},
   "outputs": [],
   "source": [
    "n = %sppl_get_namespace model\n",
    "model = n.model"
   ]
  },
  {
   "cell_type": "code",
   "execution_count": 4,
   "metadata": {},
   "outputs": [],
   "source": [
    "minority = n.ethnicity << {'minority'}\n",
    "model_c0 = model.condition(minority)\n",
    "model_c1 = model.condition(~minority)"
   ]
  },
  {
   "cell_type": "code",
   "execution_count": 5,
   "metadata": {},
   "outputs": [],
   "source": [
    "p_hire_given_minority = model_c0.prob(n.hire << {1})\n",
    "p_hire_given_majority = model_c1.prob(n.hire << {1})"
   ]
  },
  {
   "cell_type": "code",
   "execution_count": 6,
   "metadata": {},
   "outputs": [
    {
     "name": "stdout",
     "output_type": "stream",
     "text": [
      "0.3666600508668959\n"
     ]
    }
   ],
   "source": [
    "print(p_hire_given_minority / p_hire_given_majority)"
   ]
  }
 ],
 "metadata": {
  "kernelspec": {
   "display_name": "Python 3",
   "language": "python",
   "name": "python3"
  },
  "language_info": {
   "codemirror_mode": {
    "name": "ipython",
    "version": 3
   },
   "file_extension": ".py",
   "mimetype": "text/x-python",
   "name": "python",
   "nbconvert_exporter": "python",
   "pygments_lexer": "ipython3",
   "version": "3.6.9"
  }
 },
 "nbformat": 4,
 "nbformat_minor": 4
}
