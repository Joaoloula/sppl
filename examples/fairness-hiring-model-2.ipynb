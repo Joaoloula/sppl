{
 "cells": [
  {
   "cell_type": "code",
   "execution_count": 2,
   "metadata": {},
   "outputs": [],
   "source": [
    "%load_ext sppl.magics\n",
    "%matplotlib inline\n",
    "import matplotlib.pyplot as plt\n",
    "import numpy as np"
   ]
  },
  {
   "cell_type": "code",
   "execution_count": 3,
   "metadata": {
    "scrolled": false
   },
   "outputs": [],
   "source": [
    "%%sppl model\n",
    "\n",
    "# Population model\n",
    "is_male ~= bernoulli(p=.5)\n",
    "college_rank ~= norm(loc=25, scale=10)\n",
    "if is_male == 1:\n",
    "    years_exp ~= norm(loc=15, scale=5)\n",
    "else:\n",
    "    years_exp ~= norm(loc=10, scale=5)\n",
    "\n",
    "# Hiring decision.\n",
    "if ((college_rank <= 5) | (years_exp > 5)):\n",
    "    hire ~= atomic(loc=1)\n",
    "else:\n",
    "    hire ~= atomic(loc=0)"
   ]
  },
  {
   "cell_type": "code",
   "execution_count": 5,
   "metadata": {},
   "outputs": [],
   "source": [
    "n = %sppl_get_namespace model"
   ]
  },
  {
   "cell_type": "code",
   "execution_count": 6,
   "metadata": {},
   "outputs": [],
   "source": [
    "model_m = n.model.condition(n.is_male << {1})\n",
    "model_f = n.model.condition(n.is_male << {0})"
   ]
  },
  {
   "cell_type": "code",
   "execution_count": 7,
   "metadata": {},
   "outputs": [],
   "source": [
    "p_m = model_m.prob(n.hire<<{1})\n",
    "p_f = model_f.prob(n.hire<<{1})"
   ]
  },
  {
   "cell_type": "code",
   "execution_count": 8,
   "metadata": {},
   "outputs": [
    {
     "data": {
      "text/plain": [
       "0.8641668176293485"
      ]
     },
     "execution_count": 8,
     "metadata": {},
     "output_type": "execute_result"
    }
   ],
   "source": [
    "p_f/p_m"
   ]
  }
 ],
 "metadata": {
  "kernelspec": {
   "display_name": "Python 3",
   "language": "python",
   "name": "python3"
  },
  "language_info": {
   "codemirror_mode": {
    "name": "ipython",
    "version": 3
   },
   "file_extension": ".py",
   "mimetype": "text/x-python",
   "name": "python",
   "nbconvert_exporter": "python",
   "pygments_lexer": "ipython3",
   "version": "3.6.9"
  }
 },
 "nbformat": 4,
 "nbformat_minor": 4
}
