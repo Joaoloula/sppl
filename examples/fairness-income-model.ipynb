{
 "cells": [
  {
   "cell_type": "code",
   "execution_count": 1,
   "metadata": {},
   "outputs": [],
   "source": [
    "%load_ext sppl.magics"
   ]
  },
  {
   "cell_type": "code",
   "execution_count": 2,
   "metadata": {},
   "outputs": [],
   "source": [
    "%%sppl model\n",
    "\n",
    "# Population model.\n",
    "sex ~= choice({'female': .3307, 'male': .6693})\n",
    "if (sex == 'female'):\n",
    "    capital_gain ~= norm(loc=568.4105, scale=24248365.5428)\n",
    "    if capital_gain < 7298.0000:\n",
    "        age ~= norm(loc=38.4208, scale=184.9151)\n",
    "        relationship ~= choice({\n",
    "            '0': .0491, '1': .1556, '2': .4012,\n",
    "            '3': .2589, '4': .0294, '5': .1058\n",
    "        })\n",
    "    else:\n",
    "        age ~= norm(loc=38.8125, scale=193.4918)\n",
    "        relationship ~= choice({\n",
    "            '0': .0416, '1': .1667, '2': .4583,\n",
    "            '3': .2292, '4': .0166, '5': .0876\n",
    "        })\n",
    "else:\n",
    "    capital_gain ~= norm(loc=1329.3700, scale=69327473.1006)\n",
    "    if capital_gain < 5178.0000:\n",
    "        age ~= norm(loc=38.6361, scale=187.2435)\n",
    "        relationship ~= choice({\n",
    "            '0': .0497, '1': .1545, '2': .4021,\n",
    "            '3': .2590, '4': .0294, '5': .1053\n",
    "        })\n",
    "    else:\n",
    "        age ~= norm(loc=38.2668, scale=187.2747)\n",
    "        relationship ~= choice({\n",
    "            '0': .0417, '1': .1624, '2': .3976,\n",
    "            '3': .2606, '4': .0356, '5': .1021\n",
    "        })\n",
    "\n",
    "condition(age > 18)\n",
    "\n",
    "# Decision model.\n",
    "if relationship == '1':\n",
    "    if capital_gain < 5095.5:\n",
    "        t ~= atomic(loc=1)\n",
    "    else:\n",
    "        t ~= atomic(loc=0)\n",
    "elif relationship == '2':\n",
    "    if capital_gain < 4718.5:\n",
    "        t ~= atomic(loc=1)\n",
    "    else:\n",
    "        t ~= atomic(loc=0)\n",
    "elif relationship == '3':\n",
    "    if capital_gain < 5095.5:\n",
    "        t ~= atomic(loc=1)\n",
    "    else:\n",
    "        t ~= atomic(loc=0)\n",
    "elif relationship == '4':\n",
    "    if capital_gain < 8296:\n",
    "        t ~= atomic(loc=1)\n",
    "    else:\n",
    "        t ~= atomic(loc=0)\n",
    "elif relationship == '5':\n",
    "    t ~= atomic(loc=1)\n",
    "else:\n",
    "    if capital_gain < 4668.5:\n",
    "        t ~= atomic(loc=1)\n",
    "    else:\n",
    "        t ~= atomic(loc=0)"
   ]
  },
  {
   "cell_type": "code",
   "execution_count": 3,
   "metadata": {},
   "outputs": [],
   "source": [
    "n = %sppl_get_namespace model\n",
    "model = n.model"
   ]
  },
  {
   "cell_type": "code",
   "execution_count": 4,
   "metadata": {},
   "outputs": [],
   "source": [
    "model_c1 = model.condition(n.t << {0})"
   ]
  },
  {
   "cell_type": "code",
   "execution_count": 5,
   "metadata": {},
   "outputs": [
    {
     "name": "stdout",
     "output_type": "stream",
     "text": [
      "1.046470962495416\n"
     ]
    }
   ],
   "source": [
    "p_female_prior = model.prob(n.sex << {'female'})\n",
    "p_female_given_no_hire = model_c1.prob(n.sex << {'female'})\n",
    "print(100 * (p_female_given_no_hire / p_female_prior - 1))"
   ]
  }
 ],
 "metadata": {
  "kernelspec": {
   "display_name": "Python 3",
   "language": "python",
   "name": "python3"
  },
  "language_info": {
   "codemirror_mode": {
    "name": "ipython",
    "version": 3
   },
   "file_extension": ".py",
   "mimetype": "text/x-python",
   "name": "python",
   "nbconvert_exporter": "python",
   "pygments_lexer": "ipython3",
   "version": "3.6.9"
  }
 },
 "nbformat": 4,
 "nbformat_minor": 4
}
